{
 "cells": [
  {
   "cell_type": "markdown",
   "metadata": {},
   "source": [
    "# Exceptions"
   ]
  },
  {
   "cell_type": "markdown",
   "metadata": {},
   "source": [
    "Errors detected during execution are called exceptions."
   ]
  },
  {
   "cell_type": "markdown",
   "metadata": {},
   "source": [
    "#### ZeroDivisionError \n",
    "This error is raised when the second argument of a division or modulo operation is zero.\n",
    "\n",
    "```python\n",
    ">>> a = '1'\n",
    ">>> b = '0'\n",
    ">>> print int(a) / int(b)\n",
    ">>> ZeroDivisionError: integer division or modulo by zero\n",
    "```"
   ]
  },
  {
   "cell_type": "markdown",
   "metadata": {},
   "source": [
    "#### ValueError \n",
    "This error is raised when a built-in operation or function receives an argument that has the right type but an inappropriate value.\n",
    "\n",
    "```python\n",
    ">>> a = '1'\n",
    ">>> b = '#'\n",
    ">>> print int(a) / int(b)\n",
    ">>> ValueError: invalid literal for int() with base 10: '#'\n",
    "```\n",
    "\n",
    "To learn more about different built-in exceptions click [here](https://docs.python.org/2/library/exceptions.html)."
   ]
  },
  {
   "cell_type": "markdown",
   "metadata": {},
   "source": [
    "#### Handling Exceptions\n",
    "\n",
    "The statements try and except can be used to handle selected exceptions. A try statement may have more than one except clause to specify handlers for different exceptions.\n",
    "\n",
    "```python\n",
    "#Code\n",
    "try:\n",
    "    print 1/0\n",
    "except ZeroDivisionError as e:\n",
    "    print \"Error Code:\",e\n",
    "```"
   ]
  },
  {
   "cell_type": "markdown",
   "metadata": {},
   "source": [
    "You are given two values $a$ and $b$. \n",
    "\n",
    "Perform integer division and print $a/b$.\n",
    "- Input Format : The first line contains T, the number of test cases. The next T lines each contain the space separated values of a and b."
   ]
  },
  {
   "cell_type": "code",
   "execution_count": 5,
   "metadata": {},
   "outputs": [
    {
     "name": "stdout",
     "output_type": "stream",
     "text": [
      "3\n",
      "1 0\n",
      "Error Code: division by zero\n",
      "3 #\n",
      "Error Code: invalid literal for int() with base 10: '#'\n",
      "3 1\n",
      "3.0\n"
     ]
    }
   ],
   "source": [
    "num = int(input())\n",
    "\n",
    "for i in range(num):\n",
    "    try:\n",
    "        a, b = input().split()\n",
    "        print(int(a) // int(b))\n",
    "    except (ValueError, ZeroDivisionError) as e:\n",
    "        print(\"Error Code:\", e)"
   ]
  },
  {
   "cell_type": "markdown",
   "metadata": {},
   "source": [
    "# Incorrect Regex"
   ]
  },
  {
   "cell_type": "markdown",
   "metadata": {},
   "source": [
    "You are given a string $S$. \n",
    "Your task is to find out whether $S$ is a valid [regex](https://en.wikipedia.org/wiki/Regular_expression) or not.\n",
    "- Input Format : The first line contains integer $T$, the number of test cases. The next $T$ lines contains the string $S$."
   ]
  },
  {
   "cell_type": "code",
   "execution_count": 7,
   "metadata": {},
   "outputs": [
    {
     "name": "stdout",
     "output_type": "stream",
     "text": [
      "2\n",
      ".*\\+\n",
      "True\n",
      ".*+\n",
      "False\n"
     ]
    }
   ],
   "source": [
    "import re\n",
    "\n",
    "num = int(input())\n",
    "    \n",
    "for _ in range(num):\n",
    "    try:\n",
    "        re.compile(input())\n",
    "        print(True)\n",
    "    except re.error:\n",
    "        print(False)"
   ]
  }
 ],
 "metadata": {
  "kernelspec": {
   "display_name": "Python 3",
   "language": "python",
   "name": "python3"
  },
  "language_info": {
   "codemirror_mode": {
    "name": "ipython",
    "version": 3
   },
   "file_extension": ".py",
   "mimetype": "text/x-python",
   "name": "python",
   "nbconvert_exporter": "python",
   "pygments_lexer": "ipython3",
   "version": "3.6.1"
  }
 },
 "nbformat": 4,
 "nbformat_minor": 2
}
