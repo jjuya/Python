{
 "cells": [
  {
   "cell_type": "markdown",
   "metadata": {},
   "source": [
    "# collections.Counter()"
   ]
  },
  {
   "cell_type": "markdown",
   "metadata": {},
   "source": [
    "A counter is a container that stores elements as dictionary keys, and their counts are stored as dictionary values.\n",
    "\n",
    "* Sample Code\n",
    "\n",
    "```python\n",
    ">>> from collections import Counter\n",
    ">>> \n",
    ">>> myList = [1,1,2,3,4,5,3,2,3,4,2,1,2,3]\n",
    ">>> print Counter(myList)\n",
    "Counter({2: 4, 3: 4, 1: 3, 4: 2, 5: 1})\n",
    ">>>\n",
    ">>> print Counter(myList).items()\n",
    "[(1, 3), (2, 4), (3, 4), (4, 2), (5, 1)]\n",
    ">>> \n",
    ">>> print Counter(myList).keys()\n",
    "[1, 2, 3, 4, 5]\n",
    ">>> \n",
    ">>> print Counter(myList).values()\n",
    "[3, 4, 4, 2, 1]\n",
    "```"
   ]
  },
  {
   "cell_type": "markdown",
   "metadata": {},
   "source": [
    "$Raghu$ is a shoe shop owner. His shop has $X$ number of shoes. \n",
    "He has a list containing the size of each shoe he has in his shop. \n",
    "There are $N$ number of customers who are willing to pay $x_i$ amount of money only if they get the shoe of their desired size.\n",
    "\n",
    "Your task is to compute how much money $Raghu$ earned."
   ]
  },
  {
   "cell_type": "code",
   "execution_count": null,
   "metadata": {
    "collapsed": true
   },
   "outputs": [],
   "source": [
    "from collections import Counter\n",
    "\n",
    "X = int(input())\n",
    "shoes = Counter(map(int, input().split()))\n",
    "\n",
    "N = int(input())\n",
    "\n",
    "earned = 0\n",
    "\n",
    "for i in range(N):\n",
    "    size, price = map(int, input().split())\n",
    "    \n",
    "    if shoes[size]:\n",
    "        earned += price\n",
    "        shoes[size] -= 1\n",
    "        \n",
    "print(earned)\n"
   ]
  },
  {
   "cell_type": "markdown",
   "metadata": {},
   "source": [
    "# DefaultDict Tutorial"
   ]
  },
  {
   "cell_type": "markdown",
   "metadata": {},
   "source": [
    "The defaultdict tool is a container in the collections class of Python. It's similar to the usual dictionary (dict) container, but it has one difference: The value fields' data type is specified upon initialization. \n",
    "\n",
    "* For example:\n",
    "```python\n",
    "from collections import defaultdict\n",
    "d = defaultdict(list)\n",
    "d['python'].append(\"awesome\")\n",
    "d['something-else'].append(\"not relevant\")\n",
    "d['python'].append(\"language\")\n",
    "for i in d.items():\n",
    "    print i\n",
    "```\n",
    "This prints:\n",
    "```python\n",
    "('python', ['awesome', 'language'])\n",
    "('something-else', ['not relevant'])\n",
    "```"
   ]
  },
  {
   "cell_type": "markdown",
   "metadata": {},
   "source": [
    "In this challenge, you will be given $2$ integers, $n$ and $m$. There are $n$ words, which might repeat, in word group $A$. There are $m$ words belonging to word group $B$. For each $m$ words, check whether the word has appeared in group $A$ or not. Print the indices of each occurrence of $m$ in group $A$. If it does not appear, print $-1$."
   ]
  },
  {
   "cell_type": "code",
   "execution_count": 1,
   "metadata": {},
   "outputs": [
    {
     "ename": "TypeError",
     "evalue": "'type' object is not iterable",
     "output_type": "error",
     "traceback": [
      "\u001b[1;31m---------------------------------------------------------------------------\u001b[0m",
      "\u001b[1;31mTypeError\u001b[0m                                 Traceback (most recent call last)",
      "\u001b[1;32m<ipython-input-1-4d32af200d1c>\u001b[0m in \u001b[0;36m<module>\u001b[1;34m()\u001b[0m\n\u001b[0;32m      1\u001b[0m \u001b[1;32mfrom\u001b[0m \u001b[0mcollections\u001b[0m \u001b[1;32mimport\u001b[0m \u001b[0mdefaultdict\u001b[0m\u001b[1;33m\u001b[0m\u001b[0m\n\u001b[0;32m      2\u001b[0m \u001b[1;33m\u001b[0m\u001b[0m\n\u001b[1;32m----> 3\u001b[1;33m \u001b[0mn\u001b[0m\u001b[1;33m,\u001b[0m \u001b[0mm\u001b[0m \u001b[1;33m=\u001b[0m \u001b[0mmap\u001b[0m\u001b[1;33m\u001b[0m\u001b[0m\n\u001b[0m",
      "\u001b[1;31mTypeError\u001b[0m: 'type' object is not iterable"
     ]
    }
   ],
   "source": [
    "from collections import defaultdict\n",
    "\n",
    "n, m = map(int, input().split())\n",
    "\n",
    "A = []\n",
    "B = []\n",
    "\n",
    "d = defaultdict(list)\n",
    "\n",
    "for i in range(n):\n",
    "    A.append(input())\n",
    "    d[A[i]].append(i + 1)\n",
    "\n",
    "for i in range(m):\n",
    "    B.append(input())\n",
    "    \n",
    "for i in B:\n",
    "    if i in d:\n",
    "        print(' '.join(map(str, d[i])))\n",
    "    else:\n",
    "        print(-1)"
   ]
  },
  {
   "cell_type": "markdown",
   "metadata": {
    "collapsed": true
   },
   "source": [
    "# Collections.namedtuple()"
   ]
  },
  {
   "cell_type": "markdown",
   "metadata": {},
   "source": [
    "Basically, namedtuples are easy to create, lightweight object types. \n",
    "They turn tuples into convenient containers for simple tasks. \n",
    "With namedtuples, you don’t have to use integer indices for accessing members of a tuple.\n",
    "\n",
    "* Example\n",
    "\n",
    "    * Code 01\n",
    "\n",
    "    ```python\n",
    "    >>> from collections import namedtuple\n",
    "    >>> Point = namedtuple('Point','x,y')\n",
    "    >>> pt1 = Point(1,2)\n",
    "    >>> pt2 = Point(3,4)\n",
    "    >>> dot_product = ( pt1.x * pt2.x ) +( pt1.y * pt2.y )\n",
    "    >>> print dot_product\n",
    "    11\n",
    "    ```\n",
    "\n",
    "    * Code 02\n",
    "\n",
    "    ```python\n",
    "    >>> from collections import namedtuple\n",
    "    >>> Car = namedtuple('Car','Price Mileage Colour Class')\n",
    "    >>> xyz = Car(Price = 100000, Mileage = 30, Colour = 'Cyan', Class = 'Y')\n",
    "    >>> print xyz\n",
    "    Car(Price=100000, Mileage=30, Colour='Cyan', Class='Y')\n",
    "    >>> print xyz.Class\n",
    "    Y\n",
    "    ```"
   ]
  },
  {
   "cell_type": "markdown",
   "metadata": {},
   "source": [
    "Dr. John Wesley has a spreadsheet containing a list of student's $ID$, $marks$, $class$ and $name$.\n",
    "\n",
    "Your task is to help Dr. Wesley calculate the average marks of the students.\n",
    "\n",
    "\\begin{equation*}\n",
    "    Average = \\frac{Sum of all marks}{Total Students}\n",
    "\\end{equation*}\n",
    "\n",
    "Note: \n",
    "1. Columns can be in any order. IDs, marks, class and name can be written in any order in the spreadsheet. \n",
    "2. Column names are ID, MARKS, CLASS and NAME. (The spelling and case type of these names won't change.)"
   ]
  },
  {
   "cell_type": "code",
   "execution_count": 1,
   "metadata": {
    "scrolled": true
   },
   "outputs": [
    {
     "name": "stdout",
     "output_type": "stream",
     "text": [
      "\n"
     ]
    },
    {
     "ename": "ValueError",
     "evalue": "invalid literal for int() with base 10: ''",
     "output_type": "error",
     "traceback": [
      "\u001b[1;31m---------------------------------------------------------------------------\u001b[0m",
      "\u001b[1;31mValueError\u001b[0m                                Traceback (most recent call last)",
      "\u001b[1;32m<ipython-input-1-65bffe3e7977>\u001b[0m in \u001b[0;36m<module>\u001b[1;34m()\u001b[0m\n\u001b[0;32m      1\u001b[0m \u001b[1;32mfrom\u001b[0m \u001b[0mcollections\u001b[0m \u001b[1;32mimport\u001b[0m \u001b[0mnamedtuple\u001b[0m\u001b[1;33m\u001b[0m\u001b[0m\n\u001b[0;32m      2\u001b[0m \u001b[1;33m\u001b[0m\u001b[0m\n\u001b[1;32m----> 3\u001b[1;33m \u001b[0mn\u001b[0m \u001b[1;33m=\u001b[0m \u001b[0mint\u001b[0m\u001b[1;33m(\u001b[0m\u001b[0minput\u001b[0m\u001b[1;33m(\u001b[0m\u001b[1;33m)\u001b[0m\u001b[1;33m)\u001b[0m\u001b[1;33m\u001b[0m\u001b[0m\n\u001b[0m\u001b[0;32m      4\u001b[0m \u001b[0mstudent\u001b[0m \u001b[1;33m=\u001b[0m \u001b[0mnamedtuple\u001b[0m\u001b[1;33m(\u001b[0m\u001b[1;34m'Student'\u001b[0m\u001b[1;33m,\u001b[0m \u001b[0minput\u001b[0m\u001b[1;33m(\u001b[0m\u001b[1;33m)\u001b[0m\u001b[1;33m)\u001b[0m\u001b[1;33m\u001b[0m\u001b[0m\n\u001b[0;32m      5\u001b[0m \u001b[1;33m\u001b[0m\u001b[0m\n",
      "\u001b[1;31mValueError\u001b[0m: invalid literal for int() with base 10: ''"
     ]
    }
   ],
   "source": [
    "from collections import namedtuple\n",
    "\n",
    "n = int(input())\n",
    "student = namedtuple('Student', input())\n",
    "\n",
    "lists = [student(*input().split()) for i in range(n)]\n",
    "\n",
    "print(sum([float(stud.MARKS) for stud in lists])/n)"
   ]
  },
  {
   "cell_type": "markdown",
   "metadata": {},
   "source": [
    "# Collections.OrderedDict()"
   ]
  },
  {
   "cell_type": "markdown",
   "metadata": {},
   "source": [
    "An OrderedDict is a dictionary that remembers the order of the keys that were inserted first. If a new entry overwrites an existing entry, the original insertion position is left unchanged.\n",
    "\n",
    "Example\n",
    "\n",
    "```python\n",
    ">>> from collections import OrderedDict\n",
    ">>> \n",
    ">>> ordinary_dictionary = {}\n",
    ">>> ordinary_dictionary['a'] = 1\n",
    ">>> ordinary_dictionary['b'] = 2\n",
    ">>> ordinary_dictionary['c'] = 3\n",
    ">>> ordinary_dictionary['d'] = 4\n",
    ">>> ordinary_dictionary['e'] = 5\n",
    ">>> \n",
    ">>> print ordinary_dictionary\n",
    "{'a': 1, 'c': 3, 'b': 2, 'e': 5, 'd': 4}\n",
    ">>> \n",
    ">>> ordered_dictionary = OrderedDict()\n",
    ">>> ordered_dictionary['a'] = 1\n",
    ">>> ordered_dictionary['b'] = 2\n",
    ">>> ordered_dictionary['c'] = 3\n",
    ">>> ordered_dictionary['d'] = 4\n",
    ">>> ordered_dictionary['e'] = 5\n",
    ">>> \n",
    ">>> print ordered_dictionary\n",
    "OrderedDict([('a', 1), ('b', 2), ('c', 3), ('d', 4), ('e', 5)])\n",
    "```"
   ]
  },
  {
   "cell_type": "markdown",
   "metadata": {},
   "source": [
    "You are the manager of a supermarket. \n",
    "You have a list of %N% items together with their prices that consumers bought on a particular day. \n",
    "Your task is to print each item_name and net_price in order of its first occurrence.\n",
    "\n",
    "- item_name = Name of the item. \n",
    "- net_price = Quantity of the item sold multiplied by the price of each item."
   ]
  },
  {
   "cell_type": "code",
   "execution_count": null,
   "metadata": {
    "collapsed": true
   },
   "outputs": [],
   "source": [
    "from collections import OrderedDict\n",
    "\n",
    "n = int(input())\n",
    "\n",
    "lists = OrderedDict()\n",
    "\n",
    "for i in range(n):\n",
    "    item, space, price = input().rpartition(' ')\n",
    "    lists[item] = lists.get(item, 0) + int(price)\n",
    "\n",
    "for item, price in lists.items():\n",
    "    print(item, price)\n",
    "    "
   ]
  },
  {
   "cell_type": "markdown",
   "metadata": {},
   "source": [
    "# Word Order"
   ]
  },
  {
   "cell_type": "markdown",
   "metadata": {},
   "source": [
    "You are given $n$ words. Some words may repeat. For each word, output its number of occurrences. The output order should correspond with the input order of appearance of the word. See the sample input/output for clarification.\n",
    "\n",
    "Note: Each input line ends with a \"\\n\" character."
   ]
  },
  {
   "cell_type": "code",
   "execution_count": null,
   "metadata": {
    "collapsed": true
   },
   "outputs": [],
   "source": [
    "from collections import OrderedDict\n",
    "\n",
    "n = int(input())\n",
    "lists = OrderedDict()\n",
    "\n",
    "for i in range(n):\n",
    "    item = input()\n",
    "    lists[item] = lists.get(item, 0) + 1\n",
    "\n",
    "print(len(lists))\n",
    "print(*lists.values())"
   ]
  },
  {
   "cell_type": "markdown",
   "metadata": {},
   "source": [
    "# Collections.deque()"
   ]
  },
  {
   "cell_type": "markdown",
   "metadata": {},
   "source": [
    "collections.deque()\n",
    "\n",
    "A deque is a double-ended queue. It can be used to add or remove elements from both ends.\n",
    "\n",
    "Deques support thread safe, memory efficient appends and pops from either side of the deque with approximately the same $O(1)$ performance in either direction.\n",
    "\n",
    "Click on the link to learn more about **deque() methods**.\n",
    "Click on the link to learn more about various approaches to working with deques: **Deque Recipes**.\n",
    "\n",
    "```python\n",
    ">>> from collections import deque\n",
    ">>> d = deque()\n",
    ">>> d.append(1)\n",
    ">>> print d\n",
    "deque([1])\n",
    ">>> d.appendleft(2)\n",
    ">>> print d\n",
    "deque([2, 1])\n",
    ">>> d.clear()\n",
    ">>> print d\n",
    "deque([])\n",
    ">>> d.extend('1')\n",
    ">>> print d\n",
    "deque(['1'])\n",
    ">>> d.extendleft('234')\n",
    ">>> print d\n",
    "deque(['4', '3', '2', '1'])\n",
    ">>> d.count('1')\n",
    "1\n",
    ">>> d.pop()\n",
    "'1'\n",
    ">>> print d\n",
    "deque(['4', '3', '2'])\n",
    ">>> d.popleft()\n",
    "'4'\n",
    ">>> print d\n",
    "deque(['3', '2'])\n",
    ">>> d.extend('7896')\n",
    ">>> print d\n",
    "deque(['3', '2', '7', '8', '9', '6'])\n",
    ">>> d.remove('2')\n",
    ">>> print d\n",
    "deque(['3', '7', '8', '9', '6'])\n",
    ">>> d.reverse()\n",
    ">>> print d\n",
    "deque(['6', '9', '8', '7', '3'])\n",
    ">>> d.rotate(3)\n",
    ">>> print d\n",
    "deque(['8', '7', '3', '6', '9'])\n",
    "```"
   ]
  },
  {
   "cell_type": "markdown",
   "metadata": {},
   "source": [
    "Perform append, pop, popleft and appendleft methods on an empty deque $d$."
   ]
  },
  {
   "cell_type": "code",
   "execution_count": null,
   "metadata": {
    "collapsed": true
   },
   "outputs": [],
   "source": [
    "from collections import deque\n",
    "\n",
    "n = int(input())\n",
    "d = deque()\n",
    "\n",
    "for i in range(n):\n",
    "    temp = input().split()\n",
    "    \n",
    "    if temp[0] == 'append':\n",
    "        d.append(temp[1])\n",
    "    elif temp[0] == 'appendleft':\n",
    "        d.appendleft(temp[1])\n",
    "    elif temp[0] == 'pop':\n",
    "        d.pop()\n",
    "    elif temp[0] == 'popleft':\n",
    "        d.popleft()\n",
    "        \n",
    "print(*d)    "
   ]
  },
  {
   "cell_type": "markdown",
   "metadata": {},
   "source": [
    "# Piling Up!"
   ]
  },
  {
   "cell_type": "markdown",
   "metadata": {},
   "source": [
    "There is a horizontal row of $n$ cubes. The length of each cube is given. You need to create a new vertical pile of cubes. The new pile should follow these directions: if $cube_i$ is on top of $cube_j$ then $sideLength_j \\geq sideLength_i$.\n",
    "\n",
    "When stacking the cubes, you can only pick up either the leftmost or the rightmost cube each time. Print \"Yes\" if it is possible to stack the cubes. Otherwise, print \"No\". Do not print the quotation marks."
   ]
  },
  {
   "cell_type": "code",
   "execution_count": null,
   "metadata": {
    "collapsed": true
   },
   "outputs": [],
   "source": [
    "testCases = int(input())\n",
    "\n",
    "for i in range(testCases):\n",
    "    n = int(input())\n",
    "    cubes = list(map(int, input().split()))\n",
    "    \n",
    "    "
   ]
  }
 ],
 "metadata": {
  "kernelspec": {
   "display_name": "Python 3",
   "language": "python",
   "name": "python3"
  },
  "language_info": {
   "codemirror_mode": {
    "name": "ipython",
    "version": 3
   },
   "file_extension": ".py",
   "mimetype": "text/x-python",
   "name": "python",
   "nbconvert_exporter": "python",
   "pygments_lexer": "ipython3",
   "version": "3.6.1"
  }
 },
 "nbformat": 4,
 "nbformat_minor": 2
}
