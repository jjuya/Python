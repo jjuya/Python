{
 "cells": [
  {
   "cell_type": "markdown",
   "metadata": {},
   "source": [
    "# itertools.product()"
   ]
  },
  {
   "cell_type": "markdown",
   "metadata": {},
   "source": [
    "It is equivalent to nested for-loops. \n",
    "For example, product(A, B) returns the same as ((x,y) for x in A for y in B).\n",
    "\n",
    "* Sample Code\n",
    "\n",
    "```python\n",
    ">>> from itertools import product\n",
    ">>>\n",
    ">>> print list(product([1,2,3],repeat = 2))\n",
    "[(1, 1), (1, 2), (1, 3), (2, 1), (2, 2), (2, 3), (3, 1), (3, 2), (3, 3)]\n",
    ">>>\n",
    ">>> print list(product([1,2,3],[3,4]))\n",
    "[(1, 3), (1, 4), (2, 3), (2, 4), (3, 3), (3, 4)]\n",
    ">>>\n",
    ">>> A = [[1,2,3],[3,4,5]]\n",
    ">>> print list(product(*A))\n",
    "[(1, 3), (1, 4), (1, 5), (2, 3), (2, 4), (2, 5), (3, 3), (3, 4), (3, 5)]\n",
    ">>>\n",
    ">>> B = [[1,2,3],[3,4,5],[7,8]]\n",
    ">>> print list(product(*B))\n",
    "[(1, 3, 7), (1, 3, 8), (1, 4, 7), (1, 4, 8), (1, 5, 7), (1, 5, 8), (2, 3, 7), (2, 3, 8), (2, 4, 7), (2, 4, 8), (2, 5, 7), (2, 5, 8), (3, 3, 7), (3, 3, 8), (3, 4, 7), (3, 4, 8), (3, 5, 7), (3, 5, 8)]\n",
    "```"
   ]
  },
  {
   "cell_type": "markdown",
   "metadata": {},
   "source": [
    "You are given a two lists $A$ and $B$. Your task is to compute their cartesian product $AXB$."
   ]
  },
  {
   "cell_type": "code",
   "execution_count": null,
   "metadata": {
    "collapsed": true
   },
   "outputs": [],
   "source": [
    "from itertools import product\n",
    "\n",
    "A = list(map(int, input().split()))\n",
    "B = list(map(int, input().split()))\n",
    "\n",
    "print(' '.join(list(map(str, product(A, B)))))"
   ]
  },
  {
   "cell_type": "markdown",
   "metadata": {},
   "source": [
    "# itertools.permutations() "
   ]
  },
  {
   "cell_type": "markdown",
   "metadata": {},
   "source": [
    "This tool returns successive $r$ length permutations of elements in an iterable.\n",
    "\n",
    "If $r$ is not specified or is None, then $r$ defaults to the length of the iterable, and all possible full length permutations are generated.\n",
    "\n",
    "Permutations are printed in a lexicographic sorted order. So, if the input iterable is sorted, the permutation tuples will be produced in a sorted order.\n",
    "\n",
    "* Sample Code\n",
    "\n",
    "```python\n",
    ">>> from itertools import permutations\n",
    ">>> print permutations(['1','2','3'])\n",
    "<itertools.permutations object at 0x02A45210>\n",
    ">>> \n",
    ">>> print list(permutations(['1','2','3']))\n",
    "[('1', '2', '3'), ('1', '3', '2'), ('2', '1', '3'), ('2', '3', '1'), ('3', '1', '2'), ('3', '2', '1')]\n",
    ">>> \n",
    ">>> print list(permutations(['1','2','3'],2))\n",
    "[('1', '2'), ('1', '3'), ('2', '1'), ('2', '3'), ('3', '1'), ('3', '2')]\n",
    ">>>\n",
    ">>> print list(permutations('abc',3))\n",
    "[('a', 'b', 'c'), ('a', 'c', 'b'), ('b', 'a', 'c'), ('b', 'c', 'a'), ('c', 'a', 'b'), ('c', 'b', 'a')]\n",
    "```"
   ]
  },
  {
   "cell_type": "markdown",
   "metadata": {},
   "source": [
    "You are given a string $S$. \n",
    "Your task is to print all possible permutations of size $k$ of the string in lexicographic sorted order."
   ]
  },
  {
   "cell_type": "code",
   "execution_count": null,
   "metadata": {
    "collapsed": true
   },
   "outputs": [],
   "source": [
    "from itertools import permutations\n",
    "\n",
    "s, n = input().split()\n",
    "\n",
    "result = list(permutations(sorted(s), int(n)))\n",
    "\n",
    "print(*[''.join(i) for i in result], sep='\\n')"
   ]
  },
  {
   "cell_type": "markdown",
   "metadata": {},
   "source": [
    "# itertools.combinations()"
   ]
  },
  {
   "cell_type": "markdown",
   "metadata": {},
   "source": [
    "This tool returns the $r$ length subsequences of elements from the input iterable.\n",
    "\n",
    "Combinations are emitted in lexicographic sorted order. So, if the input iterable is sorted, the combination tuples will be produced in sorted order.\n",
    "\n",
    "* Sample Code\n",
    "\n",
    "```python\n",
    ">>> from itertools import combinations\n",
    ">>> \n",
    ">>> print list(combinations('12345',2))\n",
    "[('1', '2'), ('1', '3'), ('1', '4'), ('1', '5'), ('2', '3'), ('2', '4'), ('2', '5'), ('3', '4'), ('3', '5'), ('4', '5')]\n",
    ">>> \n",
    ">>> A = [1,1,3,3,3]\n",
    ">>> print list(combinations(A,4))\n",
    "[(1, 1, 3, 3), (1, 1, 3, 3), (1, 1, 3, 3), (1, 3, 3, 3), (1, 3, 3, 3)]\n",
    "```"
   ]
  },
  {
   "cell_type": "markdown",
   "metadata": {},
   "source": [
    "You are given a string $S$. \n",
    "Your task is to print all possible combinations, up to size $k$, of the string in lexicographic sorted order."
   ]
  },
  {
   "cell_type": "code",
   "execution_count": null,
   "metadata": {
    "collapsed": true
   },
   "outputs": [],
   "source": [
    "from itertools import combinations\n",
    "\n",
    "s, n = input().split()\n",
    "\n",
    "for i in range(1, int(n) + 1):\n",
    "    result = list(combinations(sorted(s), i))\n",
    "    print(*[''.join(i) for i in result], sep='\\n')"
   ]
  },
  {
   "cell_type": "markdown",
   "metadata": {},
   "source": [
    "# itertools.combinations_with_replacement()"
   ]
  },
  {
   "cell_type": "markdown",
   "metadata": {},
   "source": [
    "This tool returns $r$ length subsequences of elements from the input iterable allowing individual elements to be repeated more than once.\n",
    "\n",
    "Combinations are emitted in lexicographic sorted order. So, if the input iterable is sorted, the combination tuples will be produced in sorted order.\n",
    "\n",
    "\n",
    "* Sample Code\n",
    "\n",
    "```python\n",
    ">>> from itertools import combinations_with_replacement\n",
    ">>> \n",
    ">>> print list(combinations_with_replacement('12345',2))\n",
    "[('1', '1'), ('1', '2'), ('1', '3'), ('1', '4'), ('1', '5'), ('2', '2'), ('2', '3'), ('2', '4'), ('2', '5'), ('3', '3'), ('3', '4'), ('3', '5'), ('4', '4'), ('4', '5'), ('5', '5')]\n",
    ">>> \n",
    ">>> A = [1,1,3,3,3]\n",
    ">>> print list(combinations(A,2))\n",
    "[(1, 1), (1, 3), (1, 3), (1, 3), (1, 3), (1, 3), (1, 3), (3, 3), (3, 3), (3, 3)]\n",
    "```"
   ]
  },
  {
   "cell_type": "markdown",
   "metadata": {},
   "source": [
    "You are given a string $S$. \n",
    "Your task is to print all possible size $k$ replacement combinations of the string in lexicographic sorted order."
   ]
  },
  {
   "cell_type": "code",
   "execution_count": null,
   "metadata": {
    "collapsed": true
   },
   "outputs": [],
   "source": [
    "from itertools import combinations_with_replacement\n",
    "\n",
    "s, n = input().split()\n",
    "\n",
    "result = list(combinations_with_replacement(sorted(s), int(n)))\n",
    "\n",
    "print(*[''.join(i) for i in result], sep='\\n')"
   ]
  },
  {
   "cell_type": "markdown",
   "metadata": {},
   "source": [
    "# Compress the String!"
   ]
  },
  {
   "cell_type": "markdown",
   "metadata": {},
   "source": [
    "In this task, we would like for you to appreciate the usefulness of the groupby() function of itertools . To read more about this function, [Check this out](https://docs.python.org/2/library/itertools.html#itertools.groupby) .\n",
    "\n",
    "You are given a string $S$. Suppose a character '$c$' occurs consecutively $X$ times in the string. Replace these consecutive occurrences of the character '$c$' with $(X, c)$ in the string.\n",
    "\n",
    "For a better understanding of the problem, check the explanation."
   ]
  },
  {
   "cell_type": "code",
   "execution_count": null,
   "metadata": {
    "collapsed": true
   },
   "outputs": [],
   "source": [
    "from itertools import groupby\n",
    "\n",
    "print(*[(len(list(c)), int(k)) for k, c in groupby(input())])"
   ]
  },
  {
   "cell_type": "markdown",
   "metadata": {},
   "source": [
    "# Iterables and Iterators"
   ]
  },
  {
   "cell_type": "markdown",
   "metadata": {},
   "source": [
    "The itertools module standardizes a core set of fast, memory efficient tools that are useful by themselves or in combination. Together, they form an iterator algebra making it possible to construct specialized tools succinctly and efficiently in pure Python.\n",
    "\n",
    "To read more about the functions in this module, check out their [documentation here](https://docs.python.org/2/library/itertools.html).\n",
    "\n",
    "You are given a list of $N$ lowercase English letters. For a given integer $K$, you can select any $K$indices (assume -based indexing) with a uniform probability from the list.\n",
    "\n",
    "Find the probability that at least one of the  indices selected will contain the letter: '$a$'."
   ]
  },
  {
   "cell_type": "code",
   "execution_count": null,
   "metadata": {
    "collapsed": true
   },
   "outputs": [],
   "source": [
    "from itertools import combinations\n",
    "\n",
    "N = int(input())\n",
    "l = input().split()\n",
    "K = int(input())\n",
    "\n",
    "C = list(combinations(l, K))\n",
    "F = filter(lambda c : 'a' in c, C)\n",
    "print(\"{0:.3}\".format(len(list(F))/len(C)))"
   ]
  },
  {
   "cell_type": "markdown",
   "metadata": {},
   "source": [
    "# Maximize It!"
   ]
  },
  {
   "cell_type": "markdown",
   "metadata": {},
   "source": [
    "You are given a function $f(X) = X^2$. You are also given $K$ lists. The $i^{th}$ list consists of $N_i$elements.\n",
    "\n",
    "You have to pick one element from each list so that the value from the equation below is maximized: \n",
    "\n",
    "$S = (f(X_1) + f(X_2) + ... + f(X_k)) \\% M$\n",
    "\n",
    "$X_i$ denotes the element picked from the $i^{th}$ list . Find the maximized value $S_{max}$ obtained.\n",
    "\n",
    "% denotes the modulo operator.\n",
    "\n",
    "Note that you need to take exactly one element from each list, not necessarily the largest element. You add the squares of the chosen elements and perform the modulo operation. The maximum value that you can obtain, will be the answer to the problem."
   ]
  },
  {
   "cell_type": "code",
   "execution_count": null,
   "metadata": {
    "collapsed": true
   },
   "outputs": [],
   "source": [
    "K, M = [int(x) for x in input().split()]\n",
    "arrayN = []\n",
    "\n",
    "for _i_ in range(K):\n",
    "    arrayN.append([int(x) for x in input().split()][1:])\n",
    "    \n",
    "from itertools import product\n",
    "\n",
    "possible_combination = list(product(*arrayN))\n",
    "\n",
    "def func(nums):\n",
    "    return sum(x*x for x in nums) % M\n",
    "\n",
    "print(max(list(map(func, possible_combination))))"
   ]
  }
 ],
 "metadata": {
  "kernelspec": {
   "display_name": "Python 3",
   "language": "python",
   "name": "python3"
  },
  "language_info": {
   "codemirror_mode": {
    "name": "ipython",
    "version": 3
   },
   "file_extension": ".py",
   "mimetype": "text/x-python",
   "name": "python",
   "nbconvert_exporter": "python",
   "pygments_lexer": "ipython3",
   "version": "3.6.1"
  }
 },
 "nbformat": 4,
 "nbformat_minor": 2
}
